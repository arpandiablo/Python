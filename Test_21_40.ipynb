{
 "cells": [
  {
   "cell_type": "code",
   "execution_count": 6,
   "metadata": {},
   "outputs": [
    {
     "name": "stdout",
     "output_type": "stream",
     "text": [
      "The average of given number is 3.6666666666666665\n",
      "The average of given number is 2.0\n"
     ]
    }
   ],
   "source": [
    "def average(a,b,c=1):\n",
    "    print(\"The average of given number is\", (a+b+c)/3)\n",
    "\n",
    "average(c=4,b=4,a=3)\n",
    "average(2,3)\n"
   ]
  },
  {
   "cell_type": "code",
   "execution_count": 11,
   "metadata": {},
   "outputs": [
    {
     "name": "stdout",
     "output_type": "stream",
     "text": [
      "The average value is:  5.0\n"
     ]
    }
   ],
   "source": [
    "def averageval(*numbers):\n",
    "    sum=0\n",
    "    for i in numbers:\n",
    "        sum=sum+i\n",
    "    print(\"The average value is: \", sum/len(numbers))\n",
    "\n",
    "averageval(2,4,6,8)\n"
   ]
  },
  {
   "cell_type": "code",
   "execution_count": 14,
   "metadata": {},
   "outputs": [
    {
     "name": "stdout",
     "output_type": "stream",
     "text": [
      "[1, 3, 5, 7, 9]\n",
      "[2, 4, 6, 8]\n",
      "[1, 2, 3, 4, 5, 6, 7, 8]\n"
     ]
    }
   ],
   "source": [
    "list = [1,2,3,4,5,6,7,8,9,0]\n",
    "\n",
    "print(list[0:9:2])\n",
    "print(list[1:9:2])\n",
    "print(list[:-2])"
   ]
  },
  {
   "cell_type": "code",
   "execution_count": 17,
   "metadata": {},
   "outputs": [
    {
     "name": "stdout",
     "output_type": "stream",
     "text": [
      "[0, 1, 2, 3, 4, 5, 6, 7, 8, 9]\n"
     ]
    }
   ],
   "source": [
    "list1 = [i for i in range(10)]\n",
    "print(list1)"
   ]
  },
  {
   "cell_type": "code",
   "execution_count": 45,
   "metadata": {},
   "outputs": [
    {
     "name": "stdout",
     "output_type": "stream",
     "text": [
      "[0, 1, 1, 1, 1, 1, 2, 3, 4, 5, 6, 7, 8, 9]\n",
      "[9, 8, 7, 6, 5, 4, 3, 2, 1, 1, 1, 1, 1, 0]\n",
      "[0, 1, 1, 1, 1, 1, 2, 3, 4, 5, 6, 7, 8, 9]\n"
     ]
    }
   ],
   "source": [
    "# list.append(1)\n",
    "print(list)\n",
    "list.sort(reverse=True)\n",
    "print(list)\n",
    "list.reverse()\n",
    "print(list)"
   ]
  },
  {
   "cell_type": "code",
   "execution_count": 52,
   "metadata": {},
   "outputs": [
    {
     "name": "stdout",
     "output_type": "stream",
     "text": [
      "11\n",
      "5\n",
      "[0, 1, 2, 3, 4, 5, 6, 7, 8, 9]\n",
      "[999, 666, 1, 2, 3, 4, 5, 6, 7, 8, 9]\n",
      "[0, 1, 2, 3, 4, 5, 6, 7, 8, 9, 5, 10, 15]\n"
     ]
    }
   ],
   "source": [
    "print(list.index(7))\n",
    "print(list.count(1))\n",
    "list2=list1.copy()\n",
    "list2[0]=999\n",
    "list2.insert(1,666)\n",
    "print(list1)\n",
    "print(list2)\n",
    "list3=[5,10,15]\n",
    "list1.extend(list3)\n",
    "print(list1)"
   ]
  },
  {
   "cell_type": "code",
   "execution_count": 63,
   "metadata": {},
   "outputs": [
    {
     "name": "stdout",
     "output_type": "stream",
     "text": [
      "<class 'tuple'> (1, 2, 'Red')\n",
      "(1,)\n",
      "3\n",
      "4\n"
     ]
    }
   ],
   "source": [
    "tup = (1,2,\"Red\")\n",
    "print(type(tup),tup)\n",
    "tup1 = tup[:1]\n",
    "print(tup1)\n",
    "tup2 = (1,2,1,2,1,2,1,2)\n",
    "flag = tup2.index(2,2,6)\n",
    "print(flag)\n",
    "flag1 = tup2.count(2)\n",
    "print(flag1)"
   ]
  },
  {
   "cell_type": "code",
   "execution_count": 64,
   "metadata": {},
   "outputs": [
    {
     "name": "stdout",
     "output_type": "stream",
     "text": [
      "Enter Your Name: \n",
      "Enter Your Age: \n",
      "My name is Arpan Gautam and my age is 22\n"
     ]
    }
   ],
   "source": [
    "name = input(print(\"Enter Your Name: \"))\n",
    "age = input(print(\"Enter Your Age: \"))\n",
    "print(f\"My name is {name} and my age is {age}\")"
   ]
  },
  {
   "cell_type": "code",
   "execution_count": 65,
   "metadata": {},
   "outputs": [
    {
     "name": "stdout",
     "output_type": "stream",
     "text": [
      "8\n",
      "This is a Doc String\n"
     ]
    }
   ],
   "source": [
    "def cube(a):\n",
    "    '''This is a Doc String'''\n",
    "    print(a**3)\n",
    "cube(2)\n",
    "print(cube.__doc__)"
   ]
  },
  {
   "cell_type": "code",
   "execution_count": 67,
   "metadata": {},
   "outputs": [
    {
     "name": "stdout",
     "output_type": "stream",
     "text": [
      "8\n",
      "None\n"
     ]
    }
   ],
   "source": [
    "def cube(a):\n",
    "    print(a**3)\n",
    "    '''This is not a Doc String''' #Doc String should always be below the function definition\n",
    "cube(2)\n",
    "print(cube.__doc__)"
   ]
  },
  {
   "cell_type": "code",
   "execution_count": null,
   "metadata": {},
   "outputs": [],
   "source": []
  }
 ],
 "metadata": {
  "kernelspec": {
   "display_name": "Python 3",
   "language": "python",
   "name": "python3"
  },
  "language_info": {
   "codemirror_mode": {
    "name": "ipython",
    "version": 3
   },
   "file_extension": ".py",
   "mimetype": "text/x-python",
   "name": "python",
   "nbconvert_exporter": "python",
   "pygments_lexer": "ipython3",
   "version": "3.12.3"
  }
 },
 "nbformat": 4,
 "nbformat_minor": 2
}
