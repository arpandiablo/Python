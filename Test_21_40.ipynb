{
 "cells": [
  {
   "cell_type": "code",
   "execution_count": 6,
   "metadata": {},
   "outputs": [
    {
     "name": "stdout",
     "output_type": "stream",
     "text": [
      "The average of given number is 3.6666666666666665\n",
      "The average of given number is 2.0\n"
     ]
    }
   ],
   "source": [
    "def average(a,b,c=1):\n",
    "    print(\"The average of given number is\", (a+b+c)/3)\n",
    "\n",
    "average(c=4,b=4,a=3)\n",
    "average(2,3)\n"
   ]
  },
  {
   "cell_type": "code",
   "execution_count": 11,
   "metadata": {},
   "outputs": [
    {
     "name": "stdout",
     "output_type": "stream",
     "text": [
      "The average value is:  5.0\n"
     ]
    }
   ],
   "source": [
    "def averageval(*numbers):\n",
    "    sum=0\n",
    "    for i in numbers:\n",
    "        sum=sum+i\n",
    "    print(\"The average value is: \", sum/len(numbers))\n",
    "\n",
    "averageval(2,4,6,8)\n"
   ]
  },
  {
   "cell_type": "code",
   "execution_count": 14,
   "metadata": {},
   "outputs": [
    {
     "name": "stdout",
     "output_type": "stream",
     "text": [
      "[1, 3, 5, 7, 9]\n",
      "[2, 4, 6, 8]\n",
      "[1, 2, 3, 4, 5, 6, 7, 8]\n"
     ]
    }
   ],
   "source": [
    "list = [1,2,3,4,5,6,7,8,9,0]\n",
    "\n",
    "print(list[0:9:2])\n",
    "print(list[1:9:2])\n",
    "print(list[:-2])"
   ]
  },
  {
   "cell_type": "code",
   "execution_count": 17,
   "metadata": {},
   "outputs": [
    {
     "name": "stdout",
     "output_type": "stream",
     "text": [
      "[0, 1, 2, 3, 4, 5, 6, 7, 8, 9]\n"
     ]
    }
   ],
   "source": [
    "list1 = [i for i in range(10)]\n",
    "print(list1)"
   ]
  },
  {
   "cell_type": "code",
   "execution_count": 45,
   "metadata": {},
   "outputs": [
    {
     "name": "stdout",
     "output_type": "stream",
     "text": [
      "[0, 1, 1, 1, 1, 1, 2, 3, 4, 5, 6, 7, 8, 9]\n",
      "[9, 8, 7, 6, 5, 4, 3, 2, 1, 1, 1, 1, 1, 0]\n",
      "[0, 1, 1, 1, 1, 1, 2, 3, 4, 5, 6, 7, 8, 9]\n"
     ]
    }
   ],
   "source": [
    "# list.append(1)\n",
    "print(list)\n",
    "list.sort(reverse=True)\n",
    "print(list)\n",
    "list.reverse()\n",
    "print(list)"
   ]
  },
  {
   "cell_type": "code",
   "execution_count": 52,
   "metadata": {},
   "outputs": [
    {
     "name": "stdout",
     "output_type": "stream",
     "text": [
      "11\n",
      "5\n",
      "[0, 1, 2, 3, 4, 5, 6, 7, 8, 9]\n",
      "[999, 666, 1, 2, 3, 4, 5, 6, 7, 8, 9]\n",
      "[0, 1, 2, 3, 4, 5, 6, 7, 8, 9, 5, 10, 15]\n"
     ]
    }
   ],
   "source": [
    "print(list.index(7))\n",
    "print(list.count(1))\n",
    "list2=list1.copy()\n",
    "list2[0]=999\n",
    "list2.insert(1,666)\n",
    "print(list1)\n",
    "print(list2)\n",
    "list3=[5,10,15]\n",
    "list1.extend(list3)\n",
    "print(list1)"
   ]
  },
  {
   "cell_type": "code",
   "execution_count": 63,
   "metadata": {},
   "outputs": [
    {
     "name": "stdout",
     "output_type": "stream",
     "text": [
      "<class 'tuple'> (1, 2, 'Red')\n",
      "(1,)\n",
      "3\n",
      "4\n"
     ]
    }
   ],
   "source": [
    "tup = (1,2,\"Red\")\n",
    "print(type(tup),tup)\n",
    "tup1 = tup[:1]\n",
    "print(tup1)\n",
    "tup2 = (1,2,1,2,1,2,1,2)\n",
    "flag = tup2.index(2,2,6)\n",
    "print(flag)\n",
    "flag1 = tup2.count(2)\n",
    "print(flag1)"
   ]
  },
  {
   "cell_type": "code",
   "execution_count": 64,
   "metadata": {},
   "outputs": [
    {
     "name": "stdout",
     "output_type": "stream",
     "text": [
      "Enter Your Name: \n",
      "Enter Your Age: \n",
      "My name is Arpan Gautam and my age is 22\n"
     ]
    }
   ],
   "source": [
    "name = input(print(\"Enter Your Name: \"))\n",
    "age = input(print(\"Enter Your Age: \"))\n",
    "print(f\"My name is {name} and my age is {age}\")"
   ]
  },
  {
   "cell_type": "code",
   "execution_count": 65,
   "metadata": {},
   "outputs": [
    {
     "name": "stdout",
     "output_type": "stream",
     "text": [
      "8\n",
      "This is a Doc String\n"
     ]
    }
   ],
   "source": [
    "def cube(a):\n",
    "    '''This is a Doc String'''\n",
    "    print(a**3)\n",
    "cube(2)\n",
    "print(cube.__doc__)"
   ]
  },
  {
   "cell_type": "code",
   "execution_count": 67,
   "metadata": {},
   "outputs": [
    {
     "name": "stdout",
     "output_type": "stream",
     "text": [
      "8\n",
      "None\n"
     ]
    }
   ],
   "source": [
    "def cube(a):\n",
    "    print(a**3)\n",
    "    '''This is not a Doc String''' #Doc String should always be below the function definition\n",
    "cube(2)\n",
    "print(cube.__doc__)"
   ]
  },
  {
   "cell_type": "code",
   "execution_count": 75,
   "metadata": {},
   "outputs": [
    {
     "name": "stdout",
     "output_type": "stream",
     "text": [
      "Input the number to find factorial: \n",
      "The factorial of number 4 is 24\n"
     ]
    }
   ],
   "source": [
    "def factorial(n):\n",
    "    if(n==1 or n==0):\n",
    "        return 1\n",
    "    else:\n",
    "        return n*factorial(n-1)\n",
    "\n",
    "a = int(input(print(\"Input the number to find factorial: \")))\n",
    "fact=factorial(a)\n",
    "print(f\"The factorial of number {a} is {fact}\")"
   ]
  },
  {
   "cell_type": "code",
   "execution_count": 78,
   "metadata": {},
   "outputs": [
    {
     "name": "stdout",
     "output_type": "stream",
     "text": [
      "0\n",
      "1\n",
      "1\n",
      "2\n",
      "3\n"
     ]
    }
   ],
   "source": [
    "def fibonacci(n):\n",
    "    if n<=1:\n",
    "        return n\n",
    "    else:\n",
    "        return fibonacci(n-1) + fibonacci(n-2)\n",
    "\n",
    "\n",
    "a = int(input(\"Input the range of number to find fibonacci series: \"))\n",
    "for i in range(a):\n",
    "    print(fibonacci(i))"
   ]
  },
  {
   "cell_type": "code",
   "execution_count": 86,
   "metadata": {},
   "outputs": [
    {
     "name": "stdout",
     "output_type": "stream",
     "text": [
      "<class 'set'>\n",
      "<class 'dict'>\n",
      "1\n",
      "2\n",
      "3\n",
      "4\n",
      "Ball\n",
      "Cat\n"
     ]
    }
   ],
   "source": [
    "set1 = {\"Cat\",1,2,\"Ball\",3,4,4,4,\"Ball\"} #Set in unordered and merges duplicate elements\n",
    "print(type(set1))\n",
    "set2 = {}\n",
    "print(type(set2))\n",
    "# set3 = set()\n",
    "# print(type(set3)) #Jupyter throws error but set3 will show class set in Python\n",
    "for i in set1:\n",
    "    print(i)"
   ]
  },
  {
   "cell_type": "code",
   "execution_count": 94,
   "metadata": {},
   "outputs": [
    {
     "name": "stdout",
     "output_type": "stream",
     "text": [
      "{'Pokhara', 'Dang', 'Lalitpur', 'Bhaktapur', 'Kathmandu'}\n",
      "{'Bhaktapur', 'Kathmandu'}\n",
      "{'Dang', 'Lalitpur', 'Pokhara'}\n",
      "{'Lalitpur'}\n",
      "False\n",
      "False\n",
      "True\n",
      "False\n",
      "True\n"
     ]
    }
   ],
   "source": [
    "set_city1 = {\"Kathmandu\", \"Bhaktapur\", \"Lalitpur\"}\n",
    "set_city2 = {\"Kathmandu\", \"Bhaktapur\", \"Dang\", \"Pokhara\"}\n",
    "set_city3 = {\"Kathmandu\", \"Bhaktapur\"}\n",
    "print(set_city1.union(set_city2))\n",
    "print(set_city1.intersection(set_city2))\n",
    "print(set_city1.symmetric_difference(set_city2))\n",
    "print(set_city1.difference(set_city2))\n",
    "print(set_city1.isdisjoint(set_city2))\n",
    "print(set_city1.issuperset(set_city2))\n",
    "print(set_city1.issuperset(set_city3))\n",
    "print(set_city1.issubset(set_city3))\n",
    "print(set_city3.issubset(set_city1))"
   ]
  },
  {
   "cell_type": "code",
   "execution_count": 104,
   "metadata": {},
   "outputs": [
    {
     "name": "stdout",
     "output_type": "stream",
     "text": [
      "{'Green', 'Blue', 'Red'}\n",
      "{'Yellow', 'Green', 'Blue', 'Red'}\n",
      "{'Liquid', 'Green', 'Yellow', 'Red', 'Solid', 'Gas', 'Blue'}\n",
      "{'Liquid', 'Green', 'Red', 'Solid', 'Gas', 'Blue'}\n",
      "{'Liquid', 'Green', 'Red', 'Solid', 'Gas', 'Blue'}\n"
     ]
    },
    {
     "ename": "KeyError",
     "evalue": "'China'",
     "output_type": "error",
     "traceback": [
      "\u001b[1;31m---------------------------------------------------------------------------\u001b[0m",
      "\u001b[1;31mKeyError\u001b[0m                                  Traceback (most recent call last)",
      "Cell \u001b[1;32mIn[104], line 12\u001b[0m\n\u001b[0;32m     10\u001b[0m set_colors\u001b[38;5;241m.\u001b[39mdiscard(\u001b[38;5;124m\"\u001b[39m\u001b[38;5;124mChina\u001b[39m\u001b[38;5;124m\"\u001b[39m) \u001b[38;5;66;03m#Ignores if the element is not found where remove throws and error\u001b[39;00m\n\u001b[0;32m     11\u001b[0m \u001b[38;5;28mprint\u001b[39m(set_colors)\n\u001b[1;32m---> 12\u001b[0m \u001b[43mset_colors\u001b[49m\u001b[38;5;241;43m.\u001b[39;49m\u001b[43mremove\u001b[49m\u001b[43m(\u001b[49m\u001b[38;5;124;43m\"\u001b[39;49m\u001b[38;5;124;43mChina\u001b[39;49m\u001b[38;5;124;43m\"\u001b[39;49m\u001b[43m)\u001b[49m \u001b[38;5;66;03m#Remove throws and error\u001b[39;00m\n\u001b[0;32m     13\u001b[0m \u001b[38;5;28mprint\u001b[39m(set_colors)\n",
      "\u001b[1;31mKeyError\u001b[0m: 'China'"
     ]
    }
   ],
   "source": [
    "set_colors = {\"Red\", \"Green\", \"Blue\"}\n",
    "set_states = {\"Solid\",\"Liquid\",\"Gas\"}\n",
    "print(set_colors)\n",
    "set_colors.add(\"Yellow\")\n",
    "print(set_colors)\n",
    "set_colors.update(set_states)\n",
    "print(set_colors)\n",
    "set_colors.remove(\"Yellow\")\n",
    "print(set_colors)\n",
    "set_colors.discard(\"China\") #Ignores if the element is not found where remove throws and error\n",
    "print(set_colors)\n",
    "set_colors.remove(\"China\") #Remove throws and error\n",
    "print(set_colors)"
   ]
  },
  {
   "cell_type": "code",
   "execution_count": 108,
   "metadata": {},
   "outputs": [
    {
     "name": "stdout",
     "output_type": "stream",
     "text": [
      "{'Gas', 'Blue'}\n",
      "Solid\n",
      "set()\n"
     ]
    },
    {
     "ename": "NameError",
     "evalue": "name 'set_colors' is not defined",
     "output_type": "error",
     "traceback": [
      "\u001b[1;31m---------------------------------------------------------------------------\u001b[0m",
      "\u001b[1;31mNameError\u001b[0m                                 Traceback (most recent call last)",
      "Cell \u001b[1;32mIn[108], line 7\u001b[0m\n\u001b[0;32m      5\u001b[0m \u001b[38;5;28mprint\u001b[39m(set_colors)\n\u001b[0;32m      6\u001b[0m \u001b[38;5;28;01mdel\u001b[39;00m set_colors\n\u001b[1;32m----> 7\u001b[0m \u001b[38;5;28mprint\u001b[39m(\u001b[43mset_colors\u001b[49m)\n",
      "\u001b[1;31mNameError\u001b[0m: name 'set_colors' is not defined"
     ]
    }
   ],
   "source": [
    "set_pop = set_colors.pop()\n",
    "print(set_colors)\n",
    "print(set_pop)\n",
    "set_colors.clear() #Clears the elements of the sets\n",
    "print(set_colors)\n",
    "del set_colors\n",
    "print(set_colors) #Error because the set no longer exists"
   ]
  },
  {
   "cell_type": "code",
   "execution_count": 111,
   "metadata": {},
   "outputs": [
    {
     "name": "stdout",
     "output_type": "stream",
     "text": [
      "None\n",
      "Arpan\n"
     ]
    },
    {
     "ename": "KeyError",
     "evalue": "'Hobby'",
     "output_type": "error",
     "traceback": [
      "\u001b[1;31m---------------------------------------------------------------------------\u001b[0m",
      "\u001b[1;31mKeyError\u001b[0m                                  Traceback (most recent call last)",
      "Cell \u001b[1;32mIn[111], line 4\u001b[0m\n\u001b[0;32m      2\u001b[0m \u001b[38;5;28mprint\u001b[39m(info\u001b[38;5;241m.\u001b[39mget(\u001b[38;5;124m\"\u001b[39m\u001b[38;5;124mHobby\u001b[39m\u001b[38;5;124m\"\u001b[39m)) \u001b[38;5;66;03m#Get doesn't throw error while the other does\u001b[39;00m\n\u001b[0;32m      3\u001b[0m \u001b[38;5;28mprint\u001b[39m(info[\u001b[38;5;124m\"\u001b[39m\u001b[38;5;124mName\u001b[39m\u001b[38;5;124m\"\u001b[39m])\n\u001b[1;32m----> 4\u001b[0m \u001b[38;5;28mprint\u001b[39m(\u001b[43minfo\u001b[49m\u001b[43m[\u001b[49m\u001b[38;5;124;43m\"\u001b[39;49m\u001b[38;5;124;43mHobby\u001b[39;49m\u001b[38;5;124;43m\"\u001b[39;49m\u001b[43m]\u001b[49m) \u001b[38;5;66;03m#Get doesn't throw error while the other does\u001b[39;00m\n",
      "\u001b[1;31mKeyError\u001b[0m: 'Hobby'"
     ]
    }
   ],
   "source": [
    "info = {\"Name\":\"Arpan\",\"Age\":22,\"Address\":\"HighVision Colony\"}\n",
    "print(info.get(\"Hobby\")) #Get doesn't throw error while the other does\n",
    "print(info[\"Name\"])\n",
    "print(info[\"Hobby\"]) #Get doesn't throw error while the other does"
   ]
  },
  {
   "cell_type": "code",
   "execution_count": null,
   "metadata": {},
   "outputs": [],
   "source": []
  }
 ],
 "metadata": {
  "kernelspec": {
   "display_name": "Python 3",
   "language": "python",
   "name": "python3"
  },
  "language_info": {
   "codemirror_mode": {
    "name": "ipython",
    "version": 3
   },
   "file_extension": ".py",
   "mimetype": "text/x-python",
   "name": "python",
   "nbconvert_exporter": "python",
   "pygments_lexer": "ipython3",
   "version": "3.12.3"
  }
 },
 "nbformat": 4,
 "nbformat_minor": 2
}
