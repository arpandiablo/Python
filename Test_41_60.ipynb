{
 "cells": [
  {
   "cell_type": "code",
   "execution_count": 1,
   "metadata": {},
   "outputs": [
    {
     "name": "stdout",
     "output_type": "stream",
     "text": [
      "A\n"
     ]
    }
   ],
   "source": [
    "a = 55\n",
    "b = 6\n",
    "print(\"A\") if a>b else print(\"=\") if a==b else print(\"B\")"
   ]
  },
  {
   "cell_type": "code",
   "execution_count": 2,
   "metadata": {},
   "outputs": [
    {
     "name": "stdout",
     "output_type": "stream",
     "text": [
      "10\n",
      "12\n",
      "14\n",
      "Middle\n",
      "16\n",
      "18\n",
      "20\n",
      "DIVIDER\n",
      "10\n",
      "12\n",
      "Middle\n",
      "14\n",
      "16\n",
      "18\n",
      "20\n"
     ]
    }
   ],
   "source": [
    "marks = [10,12,14,16,18,20]\n",
    "for index, mark in enumerate(marks):\n",
    "    print(mark)\n",
    "    if(index ==2):\n",
    "        print(\"Middle\")\n",
    "print(\"DIVIDER\")\n",
    "marks1 = [10,12,14,16,18,20]\n",
    "for index, mark in enumerate(marks,start=1): #Starts index count from [1] instead of [0]\n",
    "    print(mark)\n",
    "    if(index ==2):\n",
    "        print(\"Middle\")"
   ]
  },
  {
   "cell_type": "code",
   "execution_count": null,
   "metadata": {},
   "outputs": [],
   "source": [
    "import math #access using math.sqrt()\n",
    "import math as m #access math.sqrt() using m.sqrt()\n",
    "from math import sqrt, pi #access directly using sqrt()\n",
    "from math import sqrt as sq, pi #access sqrt() directly using sq()\n",
    "from math import * #acess directly all but may cause function overlap"
   ]
  },
  {
   "cell_type": "code",
   "execution_count": 3,
   "metadata": {},
   "outputs": [
    {
     "name": "stdout",
     "output_type": "stream",
     "text": [
      "['__doc__', '__loader__', '__name__', '__package__', '__spec__', 'acos', 'acosh', 'asin', 'asinh', 'atan', 'atan2', 'atanh', 'cbrt', 'ceil', 'comb', 'copysign', 'cos', 'cosh', 'degrees', 'dist', 'e', 'erf', 'erfc', 'exp', 'exp2', 'expm1', 'fabs', 'factorial', 'floor', 'fmod', 'frexp', 'fsum', 'gamma', 'gcd', 'hypot', 'inf', 'isclose', 'isfinite', 'isinf', 'isnan', 'isqrt', 'lcm', 'ldexp', 'lgamma', 'log', 'log10', 'log1p', 'log2', 'modf', 'nan', 'nextafter', 'perm', 'pi', 'pow', 'prod', 'radians', 'remainder', 'sin', 'sinh', 'sqrt', 'sumprod', 'tan', 'tanh', 'tau', 'trunc', 'ulp']\n"
     ]
    }
   ],
   "source": [
    "import math\n",
    "print(dir(math)) #prints all available functions"
   ]
  },
  {
   "cell_type": "code",
   "execution_count": 4,
   "metadata": {},
   "outputs": [
    {
     "name": "stdout",
     "output_type": "stream",
     "text": [
      "Hello Arpan Gautam\n"
     ]
    }
   ],
   "source": [
    "import Arpan\n",
    "Arpan.greeting()"
   ]
  },
  {
   "cell_type": "code",
   "execution_count": null,
   "metadata": {},
   "outputs": [],
   "source": [
    "import os\n",
    "os.listdir(f\"<directory>\")\n",
    "os.getcwd()\n",
    "os.chdir(f\"<change directory>\")\n",
    "os.mkdir(f\"make directory\")"
   ]
  },
  {
   "cell_type": "code",
   "execution_count": 7,
   "metadata": {},
   "outputs": [
    {
     "name": "stdout",
     "output_type": "stream",
     "text": [
      "--To create virtual environment\n",
      "\n",
      "<python -m venv myenv>\n",
      "\n",
      "--\n",
      "\n",
      "--To create virtual environment\n",
      "\n",
      "<python -m venv myenv>\n",
      "\n",
      "--\n",
      "\n"
     ]
    }
   ],
   "source": [
    "f = open('Commands.txt','r') #'r' read mode is default\n",
    "txt = f.read()\n",
    "print(txt)\n",
    "f.close()\n",
    "\n",
    "#also\n",
    "\n",
    "with open('Commands.txt','r') as f:\n",
    "    bum=f.read()\n",
    "    print(bum) #no need to close using \"with\""
   ]
  },
  {
   "cell_type": "code",
   "execution_count": 10,
   "metadata": {},
   "outputs": [
    {
     "name": "stdout",
     "output_type": "stream",
     "text": [
      "--To create virtual environment\n",
      "\n",
      "\n",
      "\n",
      "<python -m venv myenv>\n",
      "\n",
      "\n",
      "\n",
      "--\n",
      "\n"
     ]
    }
   ],
   "source": [
    "f = open('Commands.txt', 'r')\n",
    "while True:\n",
    "  line = f.readline() #reads line individually\n",
    "  if not line:\n",
    "    break\n",
    "  print(line)\n",
    "f.close()"
   ]
  },
  {
   "cell_type": "code",
   "execution_count": 21,
   "metadata": {},
   "outputs": [],
   "source": [
    "f = open('myfile2.txt', 'w')\n",
    "lines = ['line 1\\n', 'line 2\\n', 'line 3']\n",
    "f.writelines(lines)\n",
    "f.close()"
   ]
  },
  {
   "cell_type": "code",
   "execution_count": 19,
   "metadata": {},
   "outputs": [
    {
     "name": "stdout",
     "output_type": "stream",
     "text": [
      "10\n",
      "e vir\n",
      "15\n"
     ]
    }
   ],
   "source": [
    "with open('Commands.txt','r') as f:\n",
    "    f.seek(10) #Index starts from 1,2,3,4........ not from 0,1,2......\n",
    "    print(f.tell())\n",
    "    flag1=f.read(5)\n",
    "    print(flag1)\n",
    "    print(f.tell())"
   ]
  },
  {
   "cell_type": "code",
   "execution_count": 22,
   "metadata": {},
   "outputs": [],
   "source": [
    "with open('myfile2.txt','w') as f:\n",
    "    f.truncate(5)"
   ]
  },
  {
   "cell_type": "code",
   "execution_count": 27,
   "metadata": {},
   "outputs": [
    {
     "name": "stdout",
     "output_type": "stream",
     "text": [
      "10\n",
      "15\n",
      "25\n"
     ]
    }
   ],
   "source": [
    "double = lambda x: x*2 #Here \"x\" denotes it takes x as value and \" : x*2\" denotes it performs the following operation on the taken value\n",
    "triple = lambda y: y*3\n",
    "def speciall(fx, value):\n",
    "    return 10 + fx(value) #adds 10 to the value given by another function which is triple in this case\n",
    "\n",
    "print(double(5))\n",
    "print(triple(5))\n",
    "print(speciall(triple,5))"
   ]
  },
  {
   "cell_type": "code",
   "execution_count": 30,
   "metadata": {},
   "outputs": [
    {
     "name": "stdout",
     "output_type": "stream",
     "text": [
      "[1, 8, 64, 216, 64, 27]\n"
     ]
    }
   ],
   "source": [
    "#MAP / FILTER / REDUCE\n",
    "map_list = [1, 2, 4, 6, 4, 3]\n",
    "newl = list(map(lambda x: x*x*x, map_list))\n",
    "print(newl)"
   ]
  },
  {
   "cell_type": "code",
   "execution_count": 31,
   "metadata": {},
   "outputs": [
    {
     "name": "stdout",
     "output_type": "stream",
     "text": [
      "[4, 6, 4, 3]\n"
     ]
    }
   ],
   "source": [
    "newnewl = list(filter(lambda x: x>2, map_list))\n",
    "print(newnewl)"
   ]
  },
  {
   "cell_type": "code",
   "execution_count": 33,
   "metadata": {},
   "outputs": [
    {
     "name": "stdout",
     "output_type": "stream",
     "text": [
      "20\n"
     ]
    }
   ],
   "source": [
    "from functools import reduce\n",
    "sum = reduce(lambda x,y: x+y, map_list)\n",
    "print(sum)"
   ]
  },
  {
   "cell_type": "code",
   "execution_count": 34,
   "metadata": {},
   "outputs": [
    {
     "name": "stdout",
     "output_type": "stream",
     "text": [
      "False\n",
      "True\n"
     ]
    }
   ],
   "source": [
    "a = (1,2,3)\n",
    "b = (1,2,3)\n",
    "print(a is b) #True for tuple/constant/immutable and False for variables (Shows mistake in Jupyter but will be fine in python)\n",
    "print(a == b) #Just checks them"
   ]
  },
  {
   "cell_type": "code",
   "execution_count": 35,
   "metadata": {},
   "outputs": [
    {
     "name": "stdout",
     "output_type": "stream",
     "text": [
      "Hey I am a person\n",
      "Hey I am a person\n",
      "Harry is a Developer\n",
      "Divya is a HR\n"
     ]
    }
   ],
   "source": [
    "class Person:\n",
    "\n",
    "  def __init__(self, name, occ):\n",
    "    print(\"Hey I am a person\")\n",
    "    self.name = name\n",
    "    self.occ = occ\n",
    "\n",
    "  def info(self):\n",
    "    print(f\"{self.name} is a {self.occ}\")\n",
    "\n",
    "\n",
    "a = Person(\"Harry\", \"Developer\")\n",
    "b = Person(\"Divya\", \"HR\") \n",
    "a.info()\n",
    "b.info()"
   ]
  },
  {
   "cell_type": "code",
   "execution_count": 37,
   "metadata": {},
   "outputs": [
    {
     "name": "stdout",
     "output_type": "stream",
     "text": [
      "Good Morning\n",
      "Good Morning\n",
      "3\n",
      "Thanks for using this function\n",
      "Thanks for using this function\n"
     ]
    }
   ],
   "source": [
    "\n",
    "def greet(fx):\n",
    "  def mfx(*args, **kwargs): # *as_a_tuple and **as_a_dictionary\n",
    "    print(\"Good Morning\")\n",
    "    fx(*args, **kwargs)\n",
    "    print(\"Thanks for using this function\")\n",
    "  return mfx\n",
    "\n",
    "@greet\n",
    "def hello():\n",
    "  print(\"Hello world\")\n",
    "\n",
    "@greet\n",
    "def add(a, b):\n",
    "  print(a+b)\n",
    "  \n",
    "# greet(hello)()\n",
    "# hello()\n",
    "greet(add)(1, 2)\n",
    "# add(1, 2)\n"
   ]
  },
  {
   "cell_type": "code",
   "execution_count": 38,
   "metadata": {},
   "outputs": [
    {
     "name": "stdout",
     "output_type": "stream",
     "text": [
      "21\n",
      "21\n"
     ]
    }
   ],
   "source": [
    "class Geek: \n",
    "    def __init__(self, age = 0): \n",
    "         self._age = age \n",
    "      \n",
    "    # getter method \n",
    "    def get_age(self): \n",
    "        return self._age \n",
    "      \n",
    "    # setter method \n",
    "    def set_age(self, x): \n",
    "        self._age = x \n",
    "  \n",
    "raj = Geek() \n",
    "  \n",
    "# setting the age using setter \n",
    "raj.set_age(21) \n",
    "  \n",
    "# retrieving age using getter \n",
    "print(raj.get_age()) \n",
    "  \n",
    "print(raj._age) "
   ]
  }
 ],
 "metadata": {
  "kernelspec": {
   "display_name": "Python 3",
   "language": "python",
   "name": "python3"
  },
  "language_info": {
   "codemirror_mode": {
    "name": "ipython",
    "version": 3
   },
   "file_extension": ".py",
   "mimetype": "text/x-python",
   "name": "python",
   "nbconvert_exporter": "python",
   "pygments_lexer": "ipython3",
   "version": "3.12.3"
  }
 },
 "nbformat": 4,
 "nbformat_minor": 2
}
