{
 "cells": [
  {
   "cell_type": "code",
   "execution_count": 4,
   "metadata": {},
   "outputs": [
    {
     "name": "stdout",
     "output_type": "stream",
     "text": [
      "1715686740.7394977\n",
      "4\n",
      "This is printed after 3 seconds\n",
      "2024-05-14 17:24:03\n",
      "time.struct_time(tm_year=2024, tm_mon=5, tm_mday=14, tm_hour=17, tm_min=24, tm_sec=3, tm_wday=1, tm_yday=135, tm_isdst=0)\n"
     ]
    }
   ],
   "source": [
    "import time \n",
    "\n",
    "print(time.time()) #Prints time in leap seconds since 1970(epoch)\n",
    "\n",
    "print(4)\n",
    "time.sleep(3)\n",
    "print(\"This is printed after 3 seconds\")\n",
    "\n",
    "t = time.localtime()\n",
    "formatted_time = time.strftime(\"%Y-%m-%d %H:%M:%S\")\n",
    "\n",
    "print(formatted_time) \n",
    "print(t)"
   ]
  },
  {
   "cell_type": "code",
   "execution_count": 5,
   "metadata": {},
   "outputs": [
    {
     "name": "stdout",
     "output_type": "stream",
     "text": [
      "Apple\n",
      "Ball\n",
      "Cat\n"
     ]
    }
   ],
   "source": [
    "foods = list()\n",
    "while (food := input(\"What food do you like?: \")) != \"quit\": # Walrus Operator \" := \"\n",
    "    foods.append(food)\n",
    "for i in foods:\n",
    "    print(i)"
   ]
  },
  {
   "cell_type": "code",
   "execution_count": null,
   "metadata": {},
   "outputs": [],
   "source": [
    "import shutil\n",
    "import os\n",
    "\n",
    "# shutil.copy(\"main.py\", \"main2.py\")\n",
    "# shutil.copytree(\".tutorial\", \"mytutorial\")\n",
    "# shutil.move(\".tutorial/file.file\", \"file.file\")\n",
    "# shutil.rmtree(\"mytutorial\")\n",
    "# os.remove(\"file.file\") # Since shutil can only remove directory not file"
   ]
  },
  {
   "cell_type": "code",
   "execution_count": null,
   "metadata": {},
   "outputs": [],
   "source": [
    "import requests \n",
    "from bs4 import BeautifulSoup\n",
    "url = \"https://www.codewithharry.com/blogpost/django-cheatsheet/\"\n",
    "r = requests.get(url)\n",
    "# print(r.text)\n",
    "\n",
    "\n",
    "soup = BeautifulSoup(r.text, 'html.parser')\n",
    "print(soup.prettify())\n",
    "for heading in soup.find_all(\"h2\"):\n",
    "  print(heading.text)\n",
    "# url = \"https://jsonplaceholder.typicode.com/posts\"\n",
    "\n",
    "# data = {\n",
    "#     \"title\": 'harry',\n",
    "#     \"body\": 'bhai',\n",
    "#     \"userId\": 12,\n",
    "#   }\n",
    "# headers =  {\n",
    "#     'Content-type': 'application/json; charset=UTF-8',\n",
    "#   }\n",
    "# response = requests.post(url, headers=headers, json=data)\n",
    "\n",
    "# print(response.text)"
   ]
  },
  {
   "cell_type": "code",
   "execution_count": 2,
   "metadata": {},
   "outputs": [
    {
     "name": "stdout",
     "output_type": "stream",
     "text": [
      "0\n",
      "1\n",
      "2\n",
      "3\n",
      "4\n"
     ]
    }
   ],
   "source": [
    "def my_generator():\n",
    "    for i in range(5):\n",
    "      # Complex computations\n",
    "      yield i\n",
    "\n",
    "gen = my_generator()\n",
    "# print(next(gen))\n",
    "# print(next(gen))\n",
    "# print(next(gen))\n",
    "\n",
    "for j in  gen:\n",
    "  print(j)"
   ]
  },
  {
   "cell_type": "code",
   "execution_count": 3,
   "metadata": {},
   "outputs": [
    {
     "name": "stdout",
     "output_type": "stream",
     "text": [
      "100\n",
      "done for 20\n",
      "10\n",
      "done for 2\n",
      "30\n",
      "done for 6\n",
      "100\n",
      "done for 20\n",
      "10\n",
      "done for 2\n",
      "30\n",
      "done for 6\n",
      "305\n",
      "done for 61\n"
     ]
    }
   ],
   "source": [
    "from functools import lru_cache\n",
    "import time\n",
    "\n",
    "@lru_cache(maxsize=None) #Function Caching (memoization)\n",
    "def fx(n):\n",
    "  time.sleep(2)\n",
    "  return n*5\n",
    "    \n",
    "\n",
    "print(fx(20))\n",
    "print(\"done for 20\")\n",
    "print(fx(2))\n",
    "print(\"done for 2\")\n",
    "print(fx(6))\n",
    "print(\"done for 6\")\n",
    "\n",
    "print(fx(20))\n",
    "print(\"done for 20\")\n",
    "print(fx(2))\n",
    "print(\"done for 2\")\n",
    "print(fx(6))\n",
    "print(\"done for 6\")\n",
    "print(fx(61))\n",
    "print(\"done for 61\")"
   ]
  },
  {
   "cell_type": "code",
   "execution_count": 5,
   "metadata": {},
   "outputs": [
    {
     "name": "stdout",
     "output_type": "stream",
     "text": [
      "<re.Match object; span=(0, 7), match='Cyclone'>\n"
     ]
    }
   ],
   "source": [
    "# https://regexr.com/\n",
    "import re\n",
    "\n",
    "pattern = r\"[A-Z]+yclone\"\n",
    "text = '''Cyclone Dumazile was a strong tropical cyclone in the South-West Indian Ocean that affected Madagascar and Réunion in early March 2018. Dumazile originated from a cyclone Dyclone low-pressure area that formed near Agaléga on 27 February. It became a tropical disturbance on 2 March, and was named the next day after attaining tropical storm status. Dumazile reached its peak intensity on 5 March, with 10-minute sustained winds of 165 km/h (105 mph), 1-minute sustained winds of 205 km/h (125 mph), and a central atmospheric pressure of 945 hPa (27.91 inHg). As it tracked southeastwards, Dumazile weakened steadily over the next couple of days due to wind shear, and became a post-tropical cyclone on 7 March\n",
    "\n",
    "'''\n",
    "\n",
    "match = re.search(pattern, text)\n",
    "print(match)\n",
    "\n",
    "# matches = re.finditer(pattern, text)\n",
    "# for match in matches:\n",
    "#   print(match.span()) \n",
    "#   print(text[match.span()[0]: match.span()[1]])"
   ]
  },
  {
   "cell_type": "code",
   "execution_count": null,
   "metadata": {},
   "outputs": [],
   "source": [
    "import threading\n",
    "import time\n",
    "from concurrent.futures import ThreadPoolExecutor\n",
    "\n",
    "# Indicates some task being done\n",
    "def func(seconds):\n",
    "  print(f\"Sleeping for {seconds} seconds\")\n",
    "  time.sleep(seconds)\n",
    "  return seconds\n",
    "\n",
    "def main():\n",
    "  time1 = time.perf_counter()\n",
    "  # Normal Code\n",
    "  # func(4) \n",
    "  # func(2)\n",
    "  # func(1)\n",
    "  \n",
    "  \n",
    "  # Same code using Threads\n",
    "  t1 = threading.Thread(target=func, args=[4])\n",
    "  t2 = threading.Thread(target=func, args=[2])\n",
    "  t3 = threading.Thread(target=func, args=[1])\n",
    "  t1.start()\n",
    "  t2.start()\n",
    "  t3.start()\n",
    "  \n",
    "  t1.join()\n",
    "  t2.join()\n",
    "  t3.join()\n",
    "  # Calculating Time \n",
    "  time2 = time.perf_counter()\n",
    "  print(time2 - time1)\n",
    "\n",
    "\n",
    "def poolingDemo():\n",
    "  with ThreadPoolExecutor() as executor:\n",
    "    # future1 = executor.submit(func, 3)\n",
    "    # future2 = executor.submit(func, 2)\n",
    "    # future3 = executor.submit(func, 4)\n",
    "    # print(future1.result())\n",
    "    # print(future2.result())\n",
    "    # print(future3.result())\n",
    "    l = [3, 5, 1, 2]\n",
    "    results = executor.map(func, l)\n",
    "    for result in results:\n",
    "      print(result)\n",
    "\n",
    "\n",
    "poolingDemo()"
   ]
  },
  {
   "cell_type": "code",
   "execution_count": null,
   "metadata": {},
   "outputs": [],
   "source": [
    "import concurrent.futures\n",
    "import requests\n",
    "\n",
    "def downloadFile(url, name):\n",
    "  print(f\"Started Downloading {name}\")\n",
    "  response = requests.get(url)\n",
    "  open(f\"files/file{name}.jpg\", \"wb\").write(response.content)\n",
    "  print(f\"Finished Downloading {name}\")\n",
    " \n",
    "\n",
    "\n",
    "url = \"https://picsum.photos/2000/3000\"\n",
    "# pros = []\n",
    "# for i in range(50):\n",
    "#   # downloadFile(url, i)\n",
    "#   p = multiprocessing.Process(target=downloadFile, args=[url, i])\n",
    "#   p.start()\n",
    "#   pros.append(p)\n",
    "\n",
    "# for p in pros:\n",
    "#   p.join()\n",
    "\n",
    "with concurrent.futures.ProcessPoolExecutor() as executor:\n",
    "  l1 = [url for i in range(60)]\n",
    "  l2 = [i for i in range(60)]\n",
    "  results = executor.map(downloadFile, l1, l2)\n",
    "  for r in results:\n",
    "    print(r)"
   ]
  }
 ],
 "metadata": {
  "kernelspec": {
   "display_name": "Python 3",
   "language": "python",
   "name": "python3"
  },
  "language_info": {
   "codemirror_mode": {
    "name": "ipython",
    "version": 3
   },
   "file_extension": ".py",
   "mimetype": "text/x-python",
   "name": "python",
   "nbconvert_exporter": "python",
   "pygments_lexer": "ipython3",
   "version": "3.12.3"
  }
 },
 "nbformat": 4,
 "nbformat_minor": 2
}
