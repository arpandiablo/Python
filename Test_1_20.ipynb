{
 "cells": [
  {
   "cell_type": "code",
   "execution_count": 1,
   "metadata": {},
   "outputs": [
    {
     "name": "stdout",
     "output_type": "stream",
     "text": [
      "H\n",
      "e\n",
      "l\n",
      "l\n",
      "o\n",
      " \n",
      "A\n",
      "r\n",
      "p\n",
      "a\n",
      "n\n"
     ]
    }
   ],
   "source": [
    "a=\"Hello Arpan\"\n",
    "for i in a:\n",
    "    print(i)"
   ]
  },
  {
   "cell_type": "code",
   "execution_count": 2,
   "metadata": {},
   "outputs": [
    {
     "name": "stdout",
     "output_type": "stream",
     "text": [
      "Hello\n"
     ]
    }
   ],
   "source": [
    "print(a[0:5])"
   ]
  },
  {
   "cell_type": "code",
   "execution_count": 3,
   "metadata": {},
   "outputs": [
    {
     "name": "stdout",
     "output_type": "stream",
     "text": [
      "11\n"
     ]
    }
   ],
   "source": [
    "print(len(a))"
   ]
  },
  {
   "cell_type": "code",
   "execution_count": 8,
   "metadata": {},
   "outputs": [
    {
     "name": "stdout",
     "output_type": "stream",
     "text": [
      "!!!!! ARPAN !!!!!\n",
      "!!!!! arpan !!!!!\n",
      "!!!!! Arpan \n",
      "!!!!! Gautam !!!!!\n",
      "['!!!!!', 'Arpan', '!!!!!']\n"
     ]
    }
   ],
   "source": [
    "b=\"!!!!! Arpan !!!!!\"\n",
    "print(b.upper())\n",
    "print(b.lower())\n",
    "print(b.rstrip(\"!\"))\n",
    "print(b.replace(\"Arpan\",\"Gautam\"))\n",
    "print(b.split(\" \"))"
   ]
  },
  {
   "cell_type": "code",
   "execution_count": 18,
   "metadata": {},
   "outputs": [
    {
     "name": "stdout",
     "output_type": "stream",
     "text": [
      "Not capitalized not\n",
      "2\n",
      "     not CAPitalized not      \n",
      "30\n",
      "True\n",
      "True\n"
     ]
    }
   ],
   "source": [
    "c=\"not CAPitalized not\"\n",
    "print(c.capitalize())\n",
    "print(c.count(\"not\"))\n",
    "print(c.center(30))\n",
    "print(len(c.center(30)))\n",
    "print(c.endswith(\"not\"))\n",
    "print(c.endswith(\"CAP\",0,7)) #selects only phrase from character 0 to 7"
   ]
  },
  {
   "cell_type": "code",
   "execution_count": 23,
   "metadata": {},
   "outputs": [
    {
     "name": "stdout",
     "output_type": "stream",
     "text": [
      "23\n",
      "-1\n",
      "23\n"
     ]
    },
    {
     "ename": "ValueError",
     "evalue": "substring not found",
     "output_type": "error",
     "traceback": [
      "\u001b[1;31m---------------------------------------------------------------------------\u001b[0m",
      "\u001b[1;31mValueError\u001b[0m                                Traceback (most recent call last)",
      "Cell \u001b[1;32mIn[23], line 5\u001b[0m\n\u001b[0;32m      3\u001b[0m \u001b[38;5;28mprint\u001b[39m(d\u001b[38;5;241m.\u001b[39mfind(\u001b[38;5;124m\"\u001b[39m\u001b[38;5;124mhehe\u001b[39m\u001b[38;5;124m\"\u001b[39m))\n\u001b[0;32m      4\u001b[0m \u001b[38;5;28mprint\u001b[39m(d\u001b[38;5;241m.\u001b[39mindex(\u001b[38;5;124m\"\u001b[39m\u001b[38;5;124mis\u001b[39m\u001b[38;5;124m\"\u001b[39m))\n\u001b[1;32m----> 5\u001b[0m \u001b[38;5;28mprint\u001b[39m(\u001b[43md\u001b[49m\u001b[38;5;241;43m.\u001b[39;49m\u001b[43mindex\u001b[49m\u001b[43m(\u001b[49m\u001b[38;5;124;43m\"\u001b[39;49m\u001b[38;5;124;43mhehe\u001b[39;49m\u001b[38;5;124;43m\"\u001b[39;49m\u001b[43m)\u001b[49m) \u001b[38;5;66;03m#unlike find which gives -1 when not found index gives error message\u001b[39;00m\n",
      "\u001b[1;31mValueError\u001b[0m: substring not found"
     ]
    }
   ],
   "source": [
    "d=\"He's not a good boy or is he?\"\n",
    "print(d.find(\"is\"))\n",
    "print(d.find(\"hehe\"))\n",
    "print(d.index(\"is\"))\n",
    "print(d.index(\"hehe\")) #unlike \"find\" which gives -1 when not found \"index\" gives error message"
   ]
  },
  {
   "cell_type": "code",
   "execution_count": 28,
   "metadata": {},
   "outputs": [
    {
     "name": "stdout",
     "output_type": "stream",
     "text": [
      "True\n",
      "False\n"
     ]
    }
   ],
   "source": [
    "e=\"Holaamigo69420\"\n",
    "print(e.isalnum())\n",
    "print(e.isalpha())"
   ]
  },
  {
   "cell_type": "code",
   "execution_count": 30,
   "metadata": {},
   "outputs": [
    {
     "name": "stdout",
     "output_type": "stream",
     "text": [
      "True\n",
      "False\n"
     ]
    }
   ],
   "source": [
    "f=\"printable\\n\"\n",
    "print(f.islower())\n",
    "print(f.isprintable()) # \\n is not printable"
   ]
  },
  {
   "cell_type": "code",
   "execution_count": 32,
   "metadata": {},
   "outputs": [
    {
     "name": "stdout",
     "output_type": "stream",
     "text": [
      "False\n",
      "HELLO BEAUTIFUL WORLD\n",
      "Hello Beautiful World\n"
     ]
    }
   ],
   "source": [
    "g=\"hello beautiful world\"\n",
    "print(g.istitle())\n",
    "print(g.swapcase())\n",
    "print(g.title())"
   ]
  },
  {
   "cell_type": "code",
   "execution_count": 1,
   "metadata": {},
   "outputs": [
    {
     "name": "stdout",
     "output_type": "stream",
     "text": [
      "14:06:20\n",
      "Good Evening\n"
     ]
    }
   ],
   "source": [
    "import time\n",
    "timestamp = time.strftime(\"%H:%M:%S\")\n",
    "print(timestamp)\n",
    "if(int(time.strftime(\"%H\"))<12):\n",
    "    print(\"Good Morning\")\n",
    "elif(int(time.strftime(\"%H\"))==12):\n",
    "    print(\"Good Afternoon\")\n",
    "else:\n",
    "    print(\"Good Evening\")"
   ]
  },
  {
   "cell_type": "code",
   "execution_count": 37,
   "metadata": {},
   "outputs": [
    {
     "name": "stdout",
     "output_type": "stream",
     "text": [
      "Enter first number\n",
      "Enter second number\n",
      "Enter the calculation operator (+,-,*,/,0 to exit)\n",
      "Wrong Operator/Operation Cancelled\n"
     ]
    }
   ],
   "source": [
    "print(\"Enter first number\")\n",
    "a = int(input())\n",
    "print(\"Enter second number\")\n",
    "b = int(input())\n",
    "print(\"Enter the calculation operator (+,-,*,/,any to exit)\")\n",
    "c = str(input())\n",
    "match c:\n",
    "    case \"+\":\n",
    "        print(a+b)\n",
    "    case \"-\":\n",
    "        print(a-b)\n",
    "    case \"*\":\n",
    "        print(a*b)\n",
    "    case \"/\":\n",
    "        print(a/b)\n",
    "    case _:\n",
    "        print(\"Wrong Operator/Operation Cancelled\")"
   ]
  },
  {
   "cell_type": "code",
   "execution_count": 44,
   "metadata": {},
   "outputs": [
    {
     "name": "stdout",
     "output_type": "stream",
     "text": [
      "red\n",
      "r,e,d,green\n",
      "g,r,e,e,n,blue\n",
      "b,l,u,e,yellow\n",
      "y,e,l,l,o,w,"
     ]
    }
   ],
   "source": [
    "colors = [\"red\", \"green\", \"blue\", \"yellow\"]\n",
    "for color in colors:\n",
    "    print(color)\n",
    "    for i in color:\n",
    "        print(i, end=\",\")"
   ]
  },
  {
   "cell_type": "code",
   "execution_count": 58,
   "metadata": {},
   "outputs": [
    {
     "name": "stdout",
     "output_type": "stream",
     "text": [
      "5\n",
      "15\n",
      "25\n",
      "35\n",
      "45\n"
     ]
    }
   ],
   "source": [
    "for i in range(5,50,10): #start,end,increment\n",
    "    print(i)"
   ]
  },
  {
   "cell_type": "code",
   "execution_count": 60,
   "metadata": {},
   "outputs": [
    {
     "name": "stdout",
     "output_type": "stream",
     "text": [
      "5\n",
      "4\n",
      "3\n",
      "2\n",
      "1\n",
      "Count is over\n"
     ]
    }
   ],
   "source": [
    "count = 5\n",
    "while(count>0):\n",
    "    print(count)\n",
    "    count-=1\n",
    "else:\n",
    "    print(\"Count is over\")\n"
   ]
  },
  {
   "cell_type": "code",
   "execution_count": 1,
   "metadata": {},
   "outputs": [
    {
     "name": "stdout",
     "output_type": "stream",
     "text": [
      "5\n",
      "4\n",
      "3\n",
      "2\n",
      "1\n"
     ]
    }
   ],
   "source": [
    "#do-while loop emulation\n",
    "count = 5\n",
    "while True:\n",
    "    print(count)\n",
    "    count-=1\n",
    "    if not count>0:\n",
    "        break"
   ]
  },
  {
   "cell_type": "code",
   "execution_count": 11,
   "metadata": {},
   "outputs": [
    {
     "name": "stdout",
     "output_type": "stream",
     "text": [
      "0~1~2~3~4~5~6~7~8~9~10~\n",
      "\n",
      "0~1~2~3~4~5~6~7~8~9~10~12~13~14~"
     ]
    }
   ],
   "source": [
    "for i in range(15):\n",
    "    if(i==11):\n",
    "        break\n",
    "    print(i,end=\"~\")\n",
    "print(\"\\n\")\n",
    "for j in range(15):\n",
    "    if(j==11):\n",
    "        continue\n",
    "    print(j,end=\"~\")"
   ]
  }
 ],
 "metadata": {
  "kernelspec": {
   "display_name": "Python 3",
   "language": "python",
   "name": "python3"
  },
  "language_info": {
   "codemirror_mode": {
    "name": "ipython",
    "version": 3
   },
   "file_extension": ".py",
   "mimetype": "text/x-python",
   "name": "python",
   "nbconvert_exporter": "python",
   "pygments_lexer": "ipython3",
   "version": "3.12.3"
  }
 },
 "nbformat": 4,
 "nbformat_minor": 2
}
