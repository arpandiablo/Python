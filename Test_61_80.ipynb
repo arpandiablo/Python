{
 "cells": [
  {
   "cell_type": "code",
   "execution_count": 1,
   "metadata": {},
   "outputs": [
    {
     "name": "stdout",
     "output_type": "stream",
     "text": [
      "The name of Employee: 400 is Rohan Das\n",
      "The name of Employee: 4100 is Harry\n",
      "The default langauge is Python\n"
     ]
    }
   ],
   "source": [
    "class Employee:\n",
    "  def __init__(self, name, id):\n",
    "    self.name = name\n",
    "    self.id = id \n",
    "\n",
    "  def showDetails(self):\n",
    "    print(f\"The name of Employee: {self.id} is {self.name}\")\n",
    "\n",
    "class Programmer(Employee):\n",
    "  def showLanguage(self):\n",
    "    print(\"The default langauge is Python\")\n",
    "\n",
    "\n",
    "e1 = Employee(\"Rohan Das\", 400)\n",
    "e1.showDetails()\n",
    "e2 = Programmer(\"Harry\", 4100)\n",
    "e2.showDetails()\n",
    "e2.showLanguage()"
   ]
  },
  {
   "cell_type": "code",
   "execution_count": 7,
   "metadata": {},
   "outputs": [
    {
     "name": "stdout",
     "output_type": "stream",
     "text": [
      "Spectre\n"
     ]
    }
   ],
   "source": [
    "class Silencer:\n",
    "    def __init__(self,name,cost):\n",
    "        self.__name = name #private method\n",
    "        self.__cost = cost\n",
    "\n",
    "g1 = Silencer(\"Spectre\",\"SMG\")\n",
    "print(g1._Silencer__name)\n"
   ]
  },
  {
   "cell_type": "code",
   "execution_count": 12,
   "metadata": {},
   "outputs": [
    {
     "name": "stdout",
     "output_type": "stream",
     "text": [
      "Harry\n",
      "CodeWithHarry\n",
      "Harry\n",
      "CodeWithHarry\n"
     ]
    }
   ],
   "source": [
    "class Student:\n",
    "    def __init__(self):\n",
    "        self._name = \"Harry\"\n",
    "\n",
    "    def _funName(self):      # protected method\n",
    "        return \"CodeWithHarry\"\n",
    "\n",
    "class Subject(Student):       #inherited class\n",
    "    pass\n",
    "\n",
    "obj = Student()\n",
    "obj1 = Subject()\n",
    "# print(dir(obj))\n",
    "\n",
    "# calling by object of Student class\n",
    "print(obj._name)      \n",
    "print(obj._funName())     \n",
    "# calling by object of Subject class\n",
    "print(obj1._name)    \n",
    "print(obj1._funName())"
   ]
  },
  {
   "cell_type": "code",
   "execution_count": 10,
   "metadata": {},
   "outputs": [
    {
     "name": "stdout",
     "output_type": "stream",
     "text": [
      "5\n",
      "11\n",
      "9\n"
     ]
    }
   ],
   "source": [
    "class Math:\n",
    "  def __init__(self, num):\n",
    "    self.num = num\n",
    "\n",
    "  def addtonum(self, n):\n",
    "    self.num = self.num +n\n",
    "    \n",
    "  @staticmethod\n",
    "  def add(a, b):\n",
    "      return a + b\n",
    "\n",
    "# result = Math.add(1, 2)\n",
    "# print(result) # Output: 3\n",
    "a = Math(5)\n",
    "print(a.num)\n",
    "a.addtonum(6)\n",
    "print(a.num)\n",
    "\n",
    "print(Math.add(7, 2)) "
   ]
  },
  {
   "cell_type": "code",
   "execution_count": 9,
   "metadata": {},
   "outputs": [
    {
     "name": "stdout",
     "output_type": "stream",
     "text": [
      "The name is Harry and company is Apple\n",
      "The name is Harry and company is Tesla\n",
      "Tesla\n"
     ]
    }
   ],
   "source": [
    "class Employee:\n",
    "  company = \"Apple\"\n",
    "  def show(self):\n",
    "    print(f\"The name is {self.name} and company is {self.company}\")\n",
    "\n",
    "  @classmethod\n",
    "  def changeCompany(cls, newCompany):\n",
    "    cls.company = newCompany\n",
    "\n",
    "\n",
    "e1 = Employee()\n",
    "e1.name = \"Harry\"\n",
    "e1.show()\n",
    "e1.changeCompany(\"Tesla\")\n",
    "e1.show()\n",
    "print(Employee.company)"
   ]
  },
  {
   "cell_type": "code",
   "execution_count": 8,
   "metadata": {},
   "outputs": [
    {
     "name": "stdout",
     "output_type": "stream",
     "text": [
      "John Doe 30\n"
     ]
    }
   ],
   "source": [
    "class Person:\n",
    "    def __init__(self, name, age):\n",
    "        self.name = name\n",
    "        self.age = age\n",
    "\n",
    "    @classmethod\n",
    "    def from_string(cls, string):\n",
    "        name, age = string.split(',')\n",
    "        return cls(name, int(age))\n",
    "\n",
    "person = Person.from_string(\"John Doe, 30\")\n",
    "print(person.name, person.age)"
   ]
  },
  {
   "cell_type": "code",
   "execution_count": 13,
   "metadata": {},
   "outputs": [
    {
     "name": "stdout",
     "output_type": "stream",
     "text": [
      "['__class__', '__delattr__', '__dict__', '__dir__', '__doc__', '__eq__', '__format__', '__ge__', '__getattribute__', '__getstate__', '__gt__', '__hash__', '__init__', '__init_subclass__', '__le__', '__lt__', '__module__', '__ne__', '__new__', '__reduce__', '__reduce_ex__', '__repr__', '__setattr__', '__sizeof__', '__str__', '__subclasshook__', '__weakref__', 'age', 'name', 'version']\n",
      "{'name': 'John', 'age': 30, 'version': 1}\n",
      "Help on class Person in module __main__:\n",
      "\n",
      "class Person(builtins.object)\n",
      " |  Person(name, age)\n",
      " |\n",
      " |  Methods defined here:\n",
      " |\n",
      " |  __init__(self, name, age)\n",
      " |      Initialize self.  See help(type(self)) for accurate signature.\n",
      " |\n",
      " |  ----------------------------------------------------------------------\n",
      " |  Data descriptors defined here:\n",
      " |\n",
      " |  __dict__\n",
      " |      dictionary for instance variables\n",
      " |\n",
      " |  __weakref__\n",
      " |      list of weak references to the object\n",
      "\n",
      "None\n"
     ]
    }
   ],
   "source": [
    "class Person:\n",
    "  def __init__(self, name, age):\n",
    "      self.name = name\n",
    "      self.age = age\n",
    "      self.version = 1\n",
    "\n",
    "    \n",
    "p = Person(\"John\", 30)\n",
    "\n",
    "print(dir(p))\n",
    "print(p.__dict__)\n",
    "print(help(Person))"
   ]
  },
  {
   "cell_type": "code",
   "execution_count": 14,
   "metadata": {},
   "outputs": [
    {
     "name": "stdout",
     "output_type": "stream",
     "text": [
      "Harry\n",
      "2345\n",
      "Python\n"
     ]
    }
   ],
   "source": [
    "class Employee:\n",
    "  def __init__(self, name, id):\n",
    "    self.name = name\n",
    "    self.id = id\n",
    "\n",
    "class Programmer(Employee):\n",
    "  def __init__(self, name, id, lang):\n",
    "    super().__init__( name, id)\n",
    "    self.lang = lang\n",
    "\n",
    "rohan = Employee(\"Rohan Das\", \"420\")\n",
    "harry = Programmer(\"Harry\", \"2345\", \"Python\")\n",
    "print(harry.name)\n",
    "print(harry.id)\n",
    "print(harry.lang)"
   ]
  },
  {
   "cell_type": "code",
   "execution_count": null,
   "metadata": {},
   "outputs": [],
   "source": [
    "class Employee:\n",
    "\n",
    "  def __init__(self, name): \n",
    "    self.name = name\n",
    "\n",
    "  def __len__(self): #Magic/Dunder Methods\n",
    "    i = 0\n",
    "    for c in self.name:\n",
    "      i = i + 1\n",
    "    return i\n",
    "\n",
    "  def __str__(self): #Magic/Dunder Methods\n",
    "    return f\"The name of the employee is {self.name} str\"\n",
    "    \n",
    "  def __repr__(self): #Magic/Dunder Methods\n",
    "    return f\"Employee('{self.name}')\"\n",
    "\n",
    "  def __call__(self): #Magic/Dunder Methods\n",
    "    print(\"Hey I am good\")\n"
   ]
  },
  {
   "cell_type": "code",
   "execution_count": 15,
   "metadata": {},
   "outputs": [
    {
     "name": "stdout",
     "output_type": "stream",
     "text": [
      "15\n",
      "78.5\n"
     ]
    }
   ],
   "source": [
    "class Shape:\n",
    "  def __init__(self, x, y):\n",
    "    self.x = x\n",
    "    self.y = y\n",
    "    \n",
    "  def area(self):\n",
    "      return self.x * self.y\n",
    "\n",
    "class Circle(Shape):\n",
    "    def __init__(self, radius):\n",
    "      self.radius = radius\n",
    "      super().__init__(radius, radius)\n",
    "\n",
    "    def area(self):\n",
    "        return 3.14 *  super().area()\n",
    "      \n",
    "rec = Shape(3, 5)\n",
    "print(rec.area())\n",
    "\n",
    "c = Circle(5)\n",
    "print(c.area())"
   ]
  },
  {
   "cell_type": "code",
   "execution_count": 16,
   "metadata": {},
   "outputs": [
    {
     "name": "stdout",
     "output_type": "stream",
     "text": [
      "3i + 5j + 6k\n",
      "1i + 2j + 9k\n",
      "4i + 7j + 15k\n",
      "<class '__main__.Vector'>\n"
     ]
    }
   ],
   "source": [
    "class Vector:\n",
    "  def __init__(self, i, j, k):\n",
    "    self.i = i\n",
    "    self.j = j\n",
    "    self.k = k\n",
    "\n",
    "  def __str__(self):\n",
    "    return f\"{self.i}i + {self.j}j + {self.k}k\"\n",
    "\n",
    "  def __add__(self, x):\n",
    "    return Vector(self.i + x.i,  self.j+x.j, self.k+x.k) \n",
    "v1 = Vector(3, 5, 6)\n",
    "print(v1)\n",
    "\n",
    "v2 = Vector(1, 2, 9)\n",
    "print(v2)\n",
    "\n",
    "print(v1 + v2)\n",
    "print(type(v1 + v2))"
   ]
  }
 ],
 "metadata": {
  "kernelspec": {
   "display_name": "Python 3",
   "language": "python",
   "name": "python3"
  },
  "language_info": {
   "codemirror_mode": {
    "name": "ipython",
    "version": 3
   },
   "file_extension": ".py",
   "mimetype": "text/x-python",
   "name": "python",
   "nbconvert_exporter": "python",
   "pygments_lexer": "ipython3",
   "version": "3.12.3"
  }
 },
 "nbformat": 4,
 "nbformat_minor": 2
}
